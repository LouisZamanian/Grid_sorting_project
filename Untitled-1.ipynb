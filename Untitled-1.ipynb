{
 "cells": [
  {
   "cell_type": "markdown",
   "metadata": {},
   "source": [
    "Overall aim of the project is to write a mathematical program to simulate the next 6 months of stock data \n",
    "\n",
    "\\textbf{Inputs}\n",
    "\n",
    "Historical data of the stock price. \n",
    "\n",
    "Model choices - what do we want to test?\n",
    "\n",
    "Use daily data. You pick a stock, or several.\n",
    "\n",
    "Try fitting Brownian motion (dS = mu dt + sigma dW) and Geometric Brownian motion (dS = mu S dt + sigma S dW)\n",
    "\n",
    "Could do a discrete tree model. \n",
    "\n",
    "Test Brownian or Geometric which one is best.\n",
    "\n",
    "\\textbf{Objectives}\n",
    "\n",
    "download data (format, business days)\n",
    "read into programme\n",
    "display properties of the data (i.e. statistical, trends, average, variance)\n",
    "plot the data\n",
    "\n",
    "write down mathematical models you are testing\n",
    "write down statistical properties of the mathematical models\n",
    "simulate the model with some arbitrary numbers, calculate the properties of the simulation (does it match what you expect)\n",
    "\n",
    " try and calculate mu/sigma to fit the model\n",
    "output properties of the fitted model\n",
    "\n",
    "\\textbf{Conclusion}\n",
    "\n",
    "Evaluate which one is better – or are they the same?"
   ]
  },
  {
   "cell_type": "markdown",
   "metadata": {},
   "source": [
    "Importation of data from BITCOIN stockmarket\n",
    "Reading data thanks to panda, calculate mean..."
   ]
  },
  {
   "cell_type": "code",
   "execution_count": null,
   "metadata": {},
   "outputs": [],
   "source": [
    "import pandas as pd\n",
    "\n",
    "# Replace 'financial_data.csv' with your actual CSV file path\n",
    "file_path = 'financial_data.csv'\n",
    "\n",
    "# Read the CSV file into a pandas DataFrame\n",
    "df = pd.read_csv(file_path)\n",
    "\n",
    "# Display the first few rows of the DataFrame to check if it was read correctly\n",
    "print(df.head())"
   ]
  },
  {
   "cell_type": "markdown",
   "metadata": {},
   "source": []
  }
 ],
 "metadata": {
  "language_info": {
   "name": "python"
  }
 },
 "nbformat": 4,
 "nbformat_minor": 2
}
